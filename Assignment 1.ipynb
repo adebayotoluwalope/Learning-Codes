{
 "cells": [
  {
   "cell_type": "code",
   "execution_count": 1,
   "id": "d70c75ed-b6ec-4ee4-9807-f09e8488cff4",
   "metadata": {},
   "outputs": [
    {
     "name": "stdout",
     "output_type": "stream",
     "text": [
      "Hello, how can i help you\n"
     ]
    }
   ],
   "source": [
    "# Question 1\n",
    "message = \"Hello, how can i help you\"\n",
    "print(message)"
   ]
  },
  {
   "cell_type": "code",
   "execution_count": 3,
   "id": "ce2851b1-a3f8-473b-9094-9db5d8dd780b",
   "metadata": {},
   "outputs": [
    {
     "name": "stdout",
     "output_type": "stream",
     "text": [
      "Toluwalope\n",
      "Akinola\n",
      "Shade\n",
      "David\n",
      "Emmanuel\n"
     ]
    }
   ],
   "source": [
    "# Question 2a Store names in a list\n",
    "names = [\"Toluwalope\", \"Akinola\", \"Shade\", \"David\", \"Emmanuel\"]\n",
    "\n",
    "# Print each name\n",
    "print(names[0])\n",
    "print(names[1])\n",
    "print(names[2])\n",
    "print(names[3])\n",
    "print(names[4])"
   ]
  },
  {
   "cell_type": "code",
   "execution_count": 7,
   "id": "88aed051-f9b6-46dd-a8ac-8678b0939c4a",
   "metadata": {},
   "outputs": [
    {
     "name": "stdout",
     "output_type": "stream",
     "text": [
      "Toluwalope\n",
      "Akinola\n",
      "Shade\n",
      "David\n",
      "Emmanuel\n"
     ]
    }
   ],
   "source": [
    "# Question 2b Print each name using a for loop\n",
    "for name in names:\n",
    "    print(name)"
   ]
  },
  {
   "cell_type": "code",
   "execution_count": 104,
   "id": "4363b025-0605-4531-8c37-3a71e353ead1",
   "metadata": {},
   "outputs": [
    {
     "name": "stdout",
     "output_type": "stream",
     "text": [
      "Hello David, you are invited to dinner at my place. Looking forward to seeing you!\n",
      "Hello Adeyemi, you are invited to dinner at my place. Looking forward to seeing you!\n",
      "Hello Sola, you are invited to dinner at my place. Looking forward to seeing you!\n",
      "Hello Foluke, you are invited to dinner at my place. Looking forward to seeing you!\n",
      "Hello Abimbola, you are invited to dinner at my place. Looking forward to seeing you!\n"
     ]
    }
   ],
   "source": [
    "#Question 3: List of people to invite for dinner and invitation to them\n",
    "lists = [\"David\", \"Adeyemi\", \"Sola\", \"Foluke\", \"Abimbola\"]\n",
    "\n",
    "for list in lists:\n",
    "    print(f\"Hello {list}, you are invited to dinner at my place. Looking forward to seeing you!\")"
   ]
  },
  {
   "cell_type": "code",
   "execution_count": 106,
   "id": "e2df30e3-8eca-4c69-8d8a-0816bfa6fde4",
   "metadata": {},
   "outputs": [
    {
     "name": "stdout",
     "output_type": "stream",
     "text": [
      "Hello David, you are invited to dinner at my place. Looking forward to seeing you!\n",
      "Oops!!, seems Foluke will not be able to attend the dinner.\n",
      "Hello Adeyemi, you are invited to dinner at my place. Looking forward to seeing you!\n",
      "Oops!!, seems Foluke will not be able to attend the dinner.\n",
      "Hello Sola, you are invited to dinner at my place. Looking forward to seeing you!\n",
      "Oops!!, seems Foluke will not be able to attend the dinner.\n",
      "Hello Foluke, you are invited to dinner at my place. Looking forward to seeing you!\n",
      "Oops!!, seems Foluke will not be able to attend the dinner.\n",
      "Hello Abimbola, you are invited to dinner at my place. Looking forward to seeing you!\n",
      "Oops!!, seems Foluke will not be able to attend the dinner.\n"
     ]
    }
   ],
   "source": [
    "#Question4a Add a print() call at the end of your program stating the name of the guest who can’t make it.\n",
    "for list in lists:\n",
    "    print(f\"Hello {list}, you are invited to dinner at my place. Looking forward to seeing you!\")\n",
    "    print(f\"Oops!!, seems {lists[3]} will not be able to attend the dinner.\")\n"
   ]
  },
  {
   "cell_type": "code",
   "execution_count": 108,
   "id": "ca95beee-f704-4eeb-9b9b-582c762e82ac",
   "metadata": {},
   "outputs": [
    {
     "name": "stdout",
     "output_type": "stream",
     "text": [
      "['David', 'Adeyemi', 'Sola', 'Tayo', 'Abimbola']\n",
      "Hello David, you are invited to dinner at my place. Looking forward to seeing you!\n",
      "Hello Adeyemi, you are invited to dinner at my place. Looking forward to seeing you!\n",
      "Hello Sola, you are invited to dinner at my place. Looking forward to seeing you!\n",
      "Hello Tayo, you are invited to dinner at my place. Looking forward to seeing you!\n",
      "Hello Abimbola, you are invited to dinner at my place. Looking forward to seeing you!\n"
     ]
    }
   ],
   "source": [
    "#Question 4b: Modify your list, replacing the name of the guest who can’t make it with the name of the new person you are inviting.\n",
    "lists[3]=\"Tayo\"\n",
    "print(lists)\n",
    "\n",
    "#Question 4c: Print a second set of invitation messages, one for each person who is still in your list\n",
    "for list in lists:\n",
    "    print(f\"Hello {list}, you are invited to dinner at my place. Looking forward to seeing you!\")"
   ]
  },
  {
   "cell_type": "code",
   "execution_count": 110,
   "id": "25767964-5c63-42f5-b41a-1674c637c7ac",
   "metadata": {},
   "outputs": [
    {
     "name": "stdout",
     "output_type": "stream",
     "text": [
      "Hello David, Great news! I found a bigger dinner table, so I'm inviting more guests, hope you won't mind?.\n",
      "Hello Adeyemi, Great news! I found a bigger dinner table, so I'm inviting more guests, hope you won't mind?.\n",
      "Hello Sola, Great news! I found a bigger dinner table, so I'm inviting more guests, hope you won't mind?.\n",
      "Hello Tayo, Great news! I found a bigger dinner table, so I'm inviting more guests, hope you won't mind?.\n",
      "Hello Abimbola, Great news! I found a bigger dinner table, so I'm inviting more guests, hope you won't mind?.\n",
      "['Eve', 'David', 'Adeyemi', 'Sola', 'Tayo', 'Abimbola']\n",
      "['Eve', 'David', 'Adeyemi', 'Frank', 'Sola', 'Tayo', 'Abimbola']\n",
      "['Eve', 'David', 'Adeyemi', 'Frank', 'Sola', 'Tayo', 'Abimbola', 'Grace']\n",
      "New invitation:\n",
      "Hello Eve, you are invited to dinner at the bigger dinner table. Looking forward to seeing you, cheers!\n",
      "Hello David, you are invited to dinner at the bigger dinner table. Looking forward to seeing you, cheers!\n",
      "Hello Adeyemi, you are invited to dinner at the bigger dinner table. Looking forward to seeing you, cheers!\n",
      "Hello Frank, you are invited to dinner at the bigger dinner table. Looking forward to seeing you, cheers!\n",
      "Hello Sola, you are invited to dinner at the bigger dinner table. Looking forward to seeing you, cheers!\n",
      "Hello Tayo, you are invited to dinner at the bigger dinner table. Looking forward to seeing you, cheers!\n",
      "Hello Abimbola, you are invited to dinner at the bigger dinner table. Looking forward to seeing you, cheers!\n",
      "Hello Grace, you are invited to dinner at the bigger dinner table. Looking forward to seeing you, cheers!\n"
     ]
    }
   ],
   "source": [
    "# Question 5a: Informing People about the bigger dinner table\n",
    "for list in lists:\n",
    "    print(f\"Hello {list}, Great news! I found a bigger dinner table, so I'm inviting more guests, hope you won't mind?.\")\n",
    "\n",
    "# Question 5b: Adding more guests to the beginning of the list \n",
    "lists.insert(0, \"Eve\")\n",
    "print(lists)\n",
    "#Question 5b: Insert in the middle\n",
    "lists.insert(3, \"Frank\")\n",
    "print(lists)\n",
    "#question 5c: Append at the end\n",
    "lists.append(\"Grace\")\n",
    "print(lists)\n",
    "\n",
    "# Question 5d: Printing new invitations\n",
    "print(\"New invitation:\")\n",
    "for list in lists:\n",
    "    print(f\"Hello {list}, you are invited to dinner at the bigger dinner table. Looking forward to seeing you, cheers!\")"
   ]
  },
  {
   "cell_type": "code",
   "execution_count": 112,
   "id": "f17380fe-f06b-4df1-96c4-27e4530ed85a",
   "metadata": {},
   "outputs": [
    {
     "name": "stdout",
     "output_type": "stream",
     "text": [
      "25: The person is an adult.\n",
      "1: The person is a baby.\n",
      "5: The person is a kid.\n",
      "70: The person is an elder.\n",
      "85: The person is an elder.\n",
      "30: The person is an adult.\n",
      "15: The person is a teenager.\n",
      "40: The person is an adult.\n",
      "90: The person is an elder.\n",
      "12: The person is a kid.\n",
      "0: The person is a baby.\n",
      "13: The person is a teenager.\n"
     ]
    }
   ],
   "source": [
    "# Question 6\n",
    "ages = (25, 1, 5, 70, 85, 30, 15, 40, 90, 12, 0, 13)\n",
    "for age in ages:\n",
    "    if age < 2:\n",
    "        print(f\"{age}: The person is a baby.\")\n",
    "    elif age < 4:\n",
    "        print(f\"{age}: The person is a toddler.\")\n",
    "    elif age < 13:\n",
    "        print(f\"{age}: The person is a kid.\")\n",
    "    elif age < 20:\n",
    "        print(f\"{age}: The person is a teenager.\")\n",
    "    elif age < 65:\n",
    "        print(f\"{age}: The person is an adult.\")\n",
    "    else:\n",
    "        print(f\"{age}: The person is an elder.\")\n"
   ]
  },
  {
   "cell_type": "code",
   "execution_count": 114,
   "id": "c7d15722-a09b-4d42-8615-b30bb3d9bf53",
   "metadata": {},
   "outputs": [
    {
     "name": "stdout",
     "output_type": "stream",
     "text": [
      "One of my favorite books is Alice in the Wonderland.\n"
     ]
    }
   ],
   "source": [
    "#Question 7: Writing a Function\n",
    "def favorite_book(title):\n",
    "    print(f\"One of my favorite books is {title}.\")\n",
    "favorite_book(\"Alice in the Wonderland\")\n"
   ]
  }
 ],
 "metadata": {
  "kernelspec": {
   "display_name": "Python [conda env:base] *",
   "language": "python",
   "name": "conda-base-py"
  },
  "language_info": {
   "codemirror_mode": {
    "name": "ipython",
    "version": 3
   },
   "file_extension": ".py",
   "mimetype": "text/x-python",
   "name": "python",
   "nbconvert_exporter": "python",
   "pygments_lexer": "ipython3",
   "version": "3.12.7"
  }
 },
 "nbformat": 4,
 "nbformat_minor": 5
}
