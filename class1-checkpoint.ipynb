{
 "cells": [
  {
   "cell_type": "markdown",
   "id": "eced5e43-583e-43af-a62e-aa94384d39b7",
   "metadata": {},
   "source": [
    "VARIABLES"
   ]
  },
  {
   "cell_type": "code",
   "execution_count": 13,
   "id": "94428bfb-106e-41e4-be3e-9b91a73c54a6",
   "metadata": {},
   "outputs": [
    {
     "name": "stdout",
     "output_type": "stream",
     "text": [
      "welcome to data science and machine learning class\n"
     ]
    }
   ],
   "source": [
    "print(\"welcome to data science and machine learning class\")"
   ]
  },
  {
   "cell_type": "code",
   "execution_count": 14,
   "id": "8b52a510-4db5-4388-8d28-372c2fd90a8a",
   "metadata": {},
   "outputs": [
    {
     "name": "stdout",
     "output_type": "stream",
     "text": [
      "welcome to data science and machine learning class\n"
     ]
    }
   ],
   "source": [
    "message = \"welcome to data science and machine learning class\"\n",
    "print (message)"
   ]
  },
  {
   "cell_type": "code",
   "execution_count": 15,
   "id": "f6b4ae24-3e5b-4dbf-a9c8-9a990fb7b5b2",
   "metadata": {},
   "outputs": [
    {
     "data": {
      "text/plain": [
       "'welcome to data science and machine learning class'"
      ]
     },
     "execution_count": 15,
     "metadata": {},
     "output_type": "execute_result"
    }
   ],
   "source": [
    "message"
   ]
  },
  {
   "cell_type": "code",
   "execution_count": 16,
   "id": "b3393799-8648-4fa8-b4fc-0cca529d2253",
   "metadata": {},
   "outputs": [],
   "source": [
    "# DATA TYPES"
   ]
  },
  {
   "cell_type": "code",
   "execution_count": 17,
   "id": "a676d9ba-8f0d-4729-a9b7-fa280efc49cc",
   "metadata": {},
   "outputs": [
    {
     "data": {
      "text/plain": [
       "'Temitope'"
      ]
     },
     "execution_count": 17,
     "metadata": {},
     "output_type": "execute_result"
    }
   ],
   "source": [
    "Fname = \"Temitope\"\n",
    "Fname"
   ]
  },
  {
   "cell_type": "code",
   "execution_count": 18,
   "id": "21dc4463-223b-49cf-8549-7280d515ace5",
   "metadata": {},
   "outputs": [
    {
     "data": {
      "text/plain": [
       "45"
      ]
     },
     "execution_count": 18,
     "metadata": {},
     "output_type": "execute_result"
    }
   ],
   "source": [
    "Age = 45\n",
    "Age"
   ]
  },
  {
   "cell_type": "code",
   "execution_count": 19,
   "id": "93d06c49-1e6b-4ca9-be42-2230652c90e9",
   "metadata": {},
   "outputs": [
    {
     "data": {
      "text/plain": [
       "25"
      ]
     },
     "execution_count": 19,
     "metadata": {},
     "output_type": "execute_result"
    }
   ],
   "source": [
    "num1 = 13\n",
    "num2 = 12\n",
    "answer = num1 + num2\n",
    "answer"
   ]
  },
  {
   "cell_type": "code",
   "execution_count": 20,
   "id": "29b13401-7308-4409-9875-e8a45b97571a",
   "metadata": {},
   "outputs": [
    {
     "data": {
      "text/plain": [
       "31.3"
      ]
     },
     "execution_count": 20,
     "metadata": {},
     "output_type": "execute_result"
    }
   ],
   "source": [
    "height = 5.5\n",
    "weight = 25.8\n",
    "result = height + weight\n",
    "result"
   ]
  },
  {
   "cell_type": "code",
   "execution_count": 21,
   "id": "b9680cab-d424-4ccd-af99-66cb99cb662f",
   "metadata": {},
   "outputs": [
    {
     "name": "stdout",
     "output_type": "stream",
     "text": [
      "my name is Temitope my age is 45 years old and have a weight of 25.8kg and height of 5.5 inches\n"
     ]
    }
   ],
   "source": [
    "print(f\"my name is {Fname} my age is {Age} years old and have a weight of {weight}kg and height of {height} inches\")"
   ]
  },
  {
   "cell_type": "markdown",
   "id": "22566ae7-a01a-428a-b3f5-78bec0a88b21",
   "metadata": {},
   "source": [
    "LIST"
   ]
  },
  {
   "cell_type": "code",
   "execution_count": 68,
   "id": "44e0d3e5-2e25-41c1-821c-9af8380048e4",
   "metadata": {},
   "outputs": [
    {
     "data": {
      "text/plain": [
       "('Mike', 'Joy', 'Emmanuel', 'Lola')"
      ]
     },
     "execution_count": 68,
     "metadata": {},
     "output_type": "execute_result"
    }
   ],
   "source": [
    "names = (\"Mike\", \"Joy\", \"Emmanuel\", \"Lola\")\n",
    "names"
   ]
  },
  {
   "cell_type": "code",
   "execution_count": 70,
   "id": "1b544b6f-b7ee-4db4-bef6-f0c3de0afc05",
   "metadata": {},
   "outputs": [
    {
     "data": {
      "text/plain": [
       "'Lola'"
      ]
     },
     "execution_count": 70,
     "metadata": {},
     "output_type": "execute_result"
    }
   ],
   "source": [
    "names [3]"
   ]
  },
  {
   "cell_type": "code",
   "execution_count": 72,
   "id": "e7d0b4c3-7072-47fb-94ef-b5daf710a2e0",
   "metadata": {},
   "outputs": [
    {
     "data": {
      "text/plain": [
       "('Mike', 'Joy', 'Emmanuel', 'Lola')"
      ]
     },
     "execution_count": 72,
     "metadata": {},
     "output_type": "execute_result"
    }
   ],
   "source": [
    "names"
   ]
  },
  {
   "cell_type": "code",
   "execution_count": 74,
   "id": "60fee16f-7ca1-4229-bfd6-1d565fdbc5f3",
   "metadata": {},
   "outputs": [
    {
     "name": "stdout",
     "output_type": "stream",
     "text": [
      "Emmanuel is a student in my class\n"
     ]
    }
   ],
   "source": [
    "print(f\"{names [2].title()} is a student in my class\")"
   ]
  },
  {
   "cell_type": "code",
   "execution_count": 76,
   "id": "829ef147-bc13-4a46-9891-c4256894561d",
   "metadata": {},
   "outputs": [
    {
     "name": "stdout",
     "output_type": "stream",
     "text": [
      "My name is Emmanuel Philip\n"
     ]
    }
   ],
   "source": [
    "First_name = \"Emmanuel\"\n",
    "Last_name = \"Philip\"\n",
    "print(f\"My name is {First_name} {Last_name}\")"
   ]
  },
  {
   "cell_type": "code",
   "execution_count": 78,
   "id": "d68106a0-c3de-4765-a1d6-66303e667fcc",
   "metadata": {},
   "outputs": [
    {
     "data": {
      "text/plain": [
       "'Lola'"
      ]
     },
     "execution_count": 78,
     "metadata": {},
     "output_type": "execute_result"
    }
   ],
   "source": [
    "names[3]"
   ]
  },
  {
   "cell_type": "code",
   "execution_count": 80,
   "id": "91813191-0527-468d-9679-53c29456e548",
   "metadata": {},
   "outputs": [
    {
     "data": {
      "text/plain": [
       "('Mike', 'Joy', 'Emmanuel', 'Lola')"
      ]
     },
     "execution_count": 80,
     "metadata": {},
     "output_type": "execute_result"
    }
   ],
   "source": [
    "names"
   ]
  },
  {
   "cell_type": "code",
   "execution_count": 82,
   "id": "32bd3230-7a8d-414d-8163-56ddb19ad3b6",
   "metadata": {},
   "outputs": [
    {
     "data": {
      "text/plain": [
       "('Mike', 'Joy', 'Emmanuel', 'Lola')"
      ]
     },
     "execution_count": 82,
     "metadata": {},
     "output_type": "execute_result"
    }
   ],
   "source": [
    "names"
   ]
  },
  {
   "cell_type": "code",
   "execution_count": 84,
   "id": "fa86c3fd-c361-4016-b6d9-366e5e1ed0fd",
   "metadata": {},
   "outputs": [
    {
     "ename": "AttributeError",
     "evalue": "'tuple' object has no attribute 'insert'",
     "output_type": "error",
     "traceback": [
      "\u001b[1;31m---------------------------------------------------------------------------\u001b[0m",
      "\u001b[1;31mAttributeError\u001b[0m                            Traceback (most recent call last)",
      "Cell \u001b[1;32mIn[84], line 1\u001b[0m\n\u001b[1;32m----> 1\u001b[0m names\u001b[38;5;241m.\u001b[39minsert(\u001b[38;5;241m1\u001b[39m,\u001b[38;5;124m\"\u001b[39m\u001b[38;5;124mTope\u001b[39m\u001b[38;5;124m\"\u001b[39m)\n\u001b[0;32m      2\u001b[0m names\n",
      "\u001b[1;31mAttributeError\u001b[0m: 'tuple' object has no attribute 'insert'"
     ]
    }
   ],
   "source": [
    "names.insert(1,\"Tope\")\n",
    "names"
   ]
  },
  {
   "cell_type": "code",
   "execution_count": null,
   "id": "804971fc-6a02-407a-bb3f-befb155d4ddc",
   "metadata": {},
   "outputs": [],
   "source": []
  }
 ],
 "metadata": {
  "kernelspec": {
   "display_name": "Python [conda env:base] *",
   "language": "python",
   "name": "conda-base-py"
  },
  "language_info": {
   "codemirror_mode": {
    "name": "ipython",
    "version": 3
   },
   "file_extension": ".py",
   "mimetype": "text/x-python",
   "name": "python",
   "nbconvert_exporter": "python",
   "pygments_lexer": "ipython3",
   "version": "3.12.7"
  }
 },
 "nbformat": 4,
 "nbformat_minor": 5
}
